{
 "cells": [
  {
   "cell_type": "code",
   "execution_count": 3,
   "metadata": {
    "collapsed": false
   },
   "outputs": [
    {
     "ename": "",
     "evalue": "",
     "output_type": "error",
     "traceback": [
      "SyntaxError: found \"\\\"akka-actor\\\"     % \\\"\", expected \")\" in",
      "load.ivy(\"com.typesafe.akka\"b         %% \"akka-actor\"     % \"2.3.9\")",
      "                                         ^"
     ]
    }
   ],
   "source": [
    "load.ivy(\"com.typesafe.akka\"b         %% \"akka-actor\"     % \"2.3.9\")\n"
   ]
  },
  {
   "cell_type": "code",
   "execution_count": 4,
   "metadata": {
    "collapsed": false,
    "scrolled": true
   },
   "outputs": [
    {
     "data": {
      "text/plain": [
       "\u001b[32mimport \u001b[36mcom.typesafe.config.ConfigFactory\u001b[0m\n",
       "\u001b[32mimport \u001b[36makka.actor.ActorSystem\u001b[0m"
      ]
     },
     "metadata": {},
     "output_type": "display_data"
    }
   ],
   "source": [
    "import com.typesafe.config.ConfigFactory\n",
    "import akka.actor.ActorSystem"
   ]
  },
  {
   "cell_type": "code",
   "execution_count": 11,
   "metadata": {
    "collapsed": false
   },
   "outputs": [
    {
     "data": {
      "text/plain": [
       "\u001b[36mfile\u001b[0m: \u001b[32mjava\u001b[0m.\u001b[32mio\u001b[0m.\u001b[32mFile\u001b[0m = ../src/main/resources/application.conf\n",
       "\u001b[36mres9_1\u001b[0m: \u001b[32mString\u001b[0m = \u001b[32m\"/Users/msciab/Dropbox/Work/MacBookPro/Sciabarra/AgileSites3/plugin/notebook/../src/main/resources/application.conf\"\u001b[0m\n",
       "\u001b[36mconfig\u001b[0m: \u001b[32mcom\u001b[0m.\u001b[32mtypesafe\u001b[0m.\u001b[32mconfig\u001b[0m.\u001b[32mConfig\u001b[0m = Config(SimpleConfigObject({\"akka\":{\"actor\":{\"debug\":{\"autoreceive\":\"off\",\"event-stream\":\"off\",\"fsm\":\"off\",\"lifecycle\":\"on\",\"receive\":\"on\"}},\"log-dead-letters-during-shutdown\":true,\"loggers\":[\"akka.event.slf4j.Slf4jLogger\"],\"logging-filter\":\"akka.event.slf4j.Slf4jLoggingFilter\",\"loglevel\":\"DEBUG\"},\"sites\":{\"pass\":\"xceladmin\",\"url\":\"http://10.0.2.15:7003/sites\",\"user\":\"fwadmin\"}}))"
      ]
     },
     "metadata": {},
     "output_type": "display_data"
    }
   ],
   "source": [
    "val file = new java.io.File(\"../src/main/resources/application.conf\")\n",
    "file.getAbsolutePath\n",
    "val config = ConfigFactory.parseFile(file).getConfig(\"sbt-web\")"
   ]
  },
  {
   "cell_type": "code",
   "execution_count": 13,
   "metadata": {
    "collapsed": false
   },
   "outputs": [
    {
     "data": {
      "text/plain": [
       "\u001b[36mres11_0\u001b[0m: \u001b[32mString\u001b[0m = \u001b[32m\"http://10.0.2.15:7003/sites\"\u001b[0m\n",
       "\u001b[36mres11_1\u001b[0m: \u001b[32mString\u001b[0m = \u001b[32m\"fwadmin\"\u001b[0m\n",
       "\u001b[36mres11_2\u001b[0m: \u001b[32mString\u001b[0m = \u001b[32m\"xceladmin\"\u001b[0m"
      ]
     },
     "metadata": {},
     "output_type": "display_data"
    }
   ],
   "source": [
    "config.getString(\"sites.url\")\n",
    "config.getString(\"sites.user\")\n",
    "config.getString(\"sites.pass\")"
   ]
  }
 ],
 "metadata": {
  "kernelspec": {
   "display_name": "Scala 2.11",
   "language": "scala211",
   "name": "scala211"
  },
  "language_info": {
   "codemirror_mode": "text/x-scala",
   "file_extension": "scala",
   "mimetype": "text/x-scala",
   "name": "scala211",
   "pygments_lexer": "scala",
   "version": "2.11.6"
  }
 },
 "nbformat": 4,
 "nbformat_minor": 0
}
