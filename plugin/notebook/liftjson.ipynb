{
 "cells": [
  {
   "cell_type": "code",
   "execution_count": 2,
   "metadata": {
    "collapsed": false,
    "scrolled": true
   },
   "outputs": [
    {
     "data": {
      "text/plain": []
     },
     "metadata": {},
     "output_type": "display_data"
    }
   ],
   "source": [
    "load.jar(\"\"\"/Users/msciab/.ivy2/cache/net.liftweb/lift-json_2.11/jars/lift-json_2.11-2.6.jar\"\"\")\n"
   ]
  },
  {
   "cell_type": "code",
   "execution_count": 3,
   "metadata": {
    "collapsed": false,
    "scrolled": true
   },
   "outputs": [
    {
     "data": {
      "text/plain": [
       "\u001b[32mimport \u001b[36mnet.liftweb.json._\u001b[0m\n",
       "\u001b[32mimport \u001b[36mnet.liftweb.json.JsonDSL._\u001b[0m\n",
       "\u001b[32mimport \u001b[36mscala.io._\u001b[0m"
      ]
     },
     "metadata": {},
     "output_type": "display_data"
    }
   ],
   "source": [
    "import net.liftweb.json._\n",
    "import net.liftweb.json.JsonDSL._\n",
    "import scala.io._\n"
   ]
  },
  {
   "cell_type": "code",
   "execution_count": null,
   "metadata": {
    "collapsed": false,
    "scrolled": true
   },
   "outputs": [],
   "source": [
    "val file = Source.fromFile(\"cselement.json\").mkString\n",
    "val json = parse( file )"
   ]
  },
  {
   "cell_type": "code",
   "execution_count": null,
   "metadata": {
    "collapsed": false,
    "scrolled": true
   },
   "outputs": [],
   "source": [
    "val JString(ids) =  (json \\ \"id\")\n",
    "val id = ids.split(\"\\\\:\").tail.head\n",
    "(json \\ \"nonce\") == JNothing"
   ]
  },
  {
   "cell_type": "code",
   "execution_count": null,
   "metadata": {
    "collapsed": false,
    "scrolled": true
   },
   "outputs": [],
   "source": [
    "val toRemove = JField(\"id\", JString(\"CSElement:1411062372351\"))\n",
    "json remove { _ == toRemove }\n",
    "compact(render(json remove { case JField(\"id\", _) => true ; case _ => false }))\n"
   ]
  },
  {
   "cell_type": "code",
   "execution_count": null,
   "metadata": {
    "collapsed": false,
    "scrolled": true
   },
   "outputs": [],
   "source": [
    "compact(render(json transform { \n",
    "      case JField(\"id\", _) => JNothing \n",
    "}))\n"
   ]
  },
  {
   "cell_type": "code",
   "execution_count": null,
   "metadata": {
    "collapsed": false,
    "scrolled": true
   },
   "outputs": [],
   "source": [
    "val file = new java.io.File(\"Hello.txt\")\n",
    "file.getName().split(\"\\\\.\").head\n",
    "val file1 = new java.io.File(\"Hello\")\n",
    "file.getName().split(\"\\\\.\").head\n"
   ]
  },
  {
   "cell_type": "code",
   "execution_count": null,
   "metadata": {
    "collapsed": false,
    "scrolled": true
   },
   "outputs": [],
   "source": [
    "parse(\"\"\"{\n",
    "    \"name\":\"fw_uid\",\n",
    "    \"data\":{\n",
    "      \"stringValue\":\"80649e86-db14-429f-b714-b346fcf22655\"\n",
    "    }}\"\"\")"
   ]
  },
  {
   "cell_type": "code",
   "execution_count": null,
   "metadata": {
    "collapsed": false,
    "scrolled": true
   },
   "outputs": [],
   "source": [
    "parse(\"\"\"{\n",
    "     \"name\":\"url\",\n",
    "     \"data\":{\n",
    "      \"blobValue\":{\n",
    "         \"filename\":\"XXX\",\n",
    "         \"foldername\":\"YYY\",\n",
    "         \"filedata\":\"ZZZ\",\n",
    "         \"webreferences\":[]\n",
    "       }\n",
    "     }\n",
    "   }\"\"\")"
   ]
  },
  {
   "cell_type": "code",
   "execution_count": null,
   "metadata": {
    "collapsed": false,
    "scrolled": true
   },
   "outputs": [],
   "source": [
    "parse(\"\"\"{\n",
    "    \"name\":\"rootelement\",\n",
    "     \"data\":{\n",
    "       \"stringValue\":\"Samples/Common/Banner\"\n",
    "  }}\n",
    "\"\"\")"
   ]
  },
  {
   "cell_type": "code",
   "execution_count": null,
   "metadata": {
    "collapsed": false,
    "scrolled": true
   },
   "outputs": [],
   "source": [
    "(parse(\"\"\"{ \"publist\": [\"Hello\"] }\"\"\"))"
   ]
  },
  {
   "cell_type": "code",
   "execution_count": null,
   "metadata": {
    "collapsed": false,
    "scrolled": true
   },
   "outputs": [],
   "source": [
    "val json = (\"a\" -> 1) ~ (\"b\" -> 2)"
   ]
  },
  {
   "cell_type": "code",
   "execution_count": null,
   "metadata": {
    "collapsed": false,
    "scrolled": true
   },
   "outputs": [],
   "source": [
    "json transform {\n",
    "    \n",
    "    case JObject((\"a\" -> 1)) => (\"a\" -> 2)\n",
    "    \n",
    "}"
   ]
  },
  {
   "cell_type": "code",
   "execution_count": null,
   "metadata": {
    "collapsed": false,
    "scrolled": true
   },
   "outputs": [],
   "source": [
    "val p = parse(\"\"\"{\"info\":[\n",
    "{ \"type\": \"CSElement\",\n",
    "    \"name\": \"AAAgileInfo\" ,\n",
    "    \"id\": \"1439388193595\"\n",
    "},\n",
    "    \n",
    "    \n",
    "{ \"type\": \"SiteEntry\",\n",
    "    \"name\": \"AAAgileReset\" ,\n",
    "    \"id\": \"1439388193494\"\n",
    "},\n",
    "\n",
    "    \n",
    "    \n",
    "{ \"type\": \"SiteEntry\",\n",
    "    \"name\": \"AAAgileInfo\" ,\n",
    "    \"id\": \"1439388193574\"\n",
    "},\n",
    "\n",
    "\n",
    "{ \"type\": \"Info\",\n",
    "   \"name\": \"version\",\n",
    "   \"id\": \"299001\"\n",
    "}]}\n",
    "\n",
    "\"\"\")"
   ]
  },
  {
   "cell_type": "code",
   "execution_count": null,
   "metadata": {
    "collapsed": true,
    "scrolled": true
   },
   "outputs": [],
   "source": []
  },
  {
   "cell_type": "code",
   "execution_count": null,
   "metadata": {
    "collapsed": false,
    "scrolled": true
   },
   "outputs": [],
   "source": [
    "val ls = for { \n",
    "    JArray(list) <- p \\ \"info\"\n",
    "    node <- list\n",
    "} yield { \n",
    "     // val JString(id) = node \\ \"id\"\n",
    "     //\n",
    "     //val JString(stype) = node \\ \"type\"\n",
    "     //s\"${stype}:${name}\" -> id\n",
    "    //id\n",
    "    val JString(stype) = node \\ \"type\"\n",
    "    val JString(name) = node \\ \"name\"\n",
    "    val JString(id) = node \\ \"id\"\n",
    "    s\"${stype}:${name}\" -> id    \n",
    "}\n",
    "ls.toSeq.toMap"
   ]
  },
  {
   "cell_type": "code",
   "execution_count": null,
   "metadata": {
    "collapsed": true,
    "scrolled": true
   },
   "outputs": [],
   "source": []
  },
  {
   "cell_type": "code",
   "execution_count": null,
   "metadata": {
    "collapsed": false,
    "scrolled": true
   },
   "outputs": [],
   "source": [
    "ls.toSeq.toMap"
   ]
  },
  {
   "cell_type": "code",
   "execution_count": null,
   "metadata": {
    "collapsed": false,
    "scrolled": true
   },
   "outputs": [],
   "source": [
    "p \\ \"info\" "
   ]
  },
  {
   "cell_type": "code",
   "execution_count": 14,
   "metadata": {
    "collapsed": false,
    "scrolled": true
   },
   "outputs": [
    {
     "data": {
      "text/plain": [
       "\u001b[36mjson\u001b[0m: \u001b[32mJValue\u001b[0m = JObject(List(JField(a,JInt(1)), JField(b,JInt(2))))"
      ]
     },
     "metadata": {},
     "output_type": "display_data"
    }
   ],
   "source": [
    "val json = parse(\"\"\"{ \"a\": 1, \"b\": 2}\"\"\")"
   ]
  },
  {
   "cell_type": "code",
   "execution_count": 17,
   "metadata": {
    "collapsed": false,
    "scrolled": true
   },
   "outputs": [
    {
     "data": {
      "text/plain": [
       "\u001b[36mj\u001b[0m: \u001b[32mJObject\u001b[0m = \u001b[33mJObject\u001b[0m(\n",
       "  \u001b[33mList\u001b[0m(\u001b[33mJField\u001b[0m(\u001b[32m\"a\"\u001b[0m, JInt(1)), \u001b[33mJField\u001b[0m(\u001b[32m\"c\"\u001b[0m, JInt(3)))\n",
       ")"
      ]
     },
     "metadata": {},
     "output_type": "display_data"
    }
   ],
   "source": [
    "val j = (\"a\" -> 1) ~ (\"c\" -> 3) "
   ]
  },
  {
   "cell_type": "code",
   "execution_count": 22,
   "metadata": {
    "collapsed": false,
    "scrolled": true
   },
   "outputs": [
    {
     "data": {
      "text/plain": [
       "\u001b[36mjj\u001b[0m: \u001b[32mJValue\u001b[0m = JObject(List(JField(a,JInt(1)), JField(b,JInt(2)), JField(c,JInt(3))))"
      ]
     },
     "metadata": {},
     "output_type": "display_data"
    }
   ],
   "source": [
    "val jj = json merge j"
   ]
  },
  {
   "cell_type": "code",
   "execution_count": 23,
   "metadata": {
    "collapsed": false,
    "scrolled": true
   },
   "outputs": [
    {
     "data": {
      "text/plain": [
       "\u001b[36mres16\u001b[0m: \u001b[32mString\u001b[0m = \u001b[32m\"\"\"\n",
       "{\n",
       "  \"a\":1,\n",
       "  \"b\":2,\n",
       "  \"c\":3\n",
       "}\n",
       "\"\"\"\u001b[0m"
      ]
     },
     "metadata": {},
     "output_type": "display_data"
    }
   ],
   "source": [
    "pretty(render(jj))"
   ]
  },
  {
   "cell_type": "code",
   "execution_count": 19,
   "metadata": {
    "collapsed": false,
    "scrolled": true
   },
   "outputs": [
    {
     "data": {
      "text/plain": [
       "\u001b[36mjjj\u001b[0m: \u001b[32mJValue\u001b[0m = JObject(List(JField(id,JString(SiteEntry:1439388193721)), JField(name,JString(AAAgileInfo)), JField(createdby,JString(fwadmin)), JField(createddate,JString(2015-10-31T10:22:19.060Z)), JField(description,JString()), JField(publist,JArray(List(JString(AdminSite)))), JField(status,JString(PL)), JField(subtype,JString()), JField(updatedby,JString(agilesites)), JField(updatedby,JString(2015-10-31T10:22:19Z)), JField(attribute,JArray(List(JObject(List(JField(name,JString(startdate)), JField(data,JObject(List())))), JObject(List(JField(name,JString(enddate)), JField(data,JObject(List())))), JObject(List(JField(name,JString(filename)), JField(data,JObject(List(JField(stringValue,JString())))))), JObject(List(JField(name,JString(path)), JField(data,JObject(List(JField(stringValue,JString())))))), JObject(List(JField(name,JString(template)), JField(data,JObject(List(JField(stringValue,JString(OpenMarket/SiteEntryTemplate))))))), JObject(List(JField(name,JString(urlexternaldoc)), JField(data,JObject(List())))), JObject(List(JField(name,JString(externaldoctype)), JField(data,JObject(List(JField(stringValue,JString())))))), JObject(List(JField(name,JString(urlexternaldocxml)), JField(data,JObject(List())))), JObject(List(JField(name,JString(fw_uid)), JField(data,JObject(List(JField(stringValue,JString(80cbb808-78ec-4c2c-bb7d-fce3cb6a7766))))))), JObject(List(JField(name,JString(id)), JField(data,JObject(List(JField(longValue,JInt(1439388193721))))))), JObject(List(JField(name,JString(fwta\u001b[33m...\u001b[0m"
      ]
     },
     "metadata": {},
     "output_type": "display_data"
    }
   ],
   "source": [
    "val jjj = parse(\"\"\" {\"id\":\"SiteEntry:1439388193721\",\"name\":\"AAAgileInfo\",\"createdby\":\"fwadmin\",\"createddate\":\"2015-10-31T10:22:19.060Z\",\"description\":\"\",\"publist\":[\"AdminSite\"],\"status\":\"PL\",\"subtype\":\"\",\"updatedby\":\"agilesites\",\"updatedby\":\"2015-10-31T10:22:19Z\",\"attribute\":[{\"name\":\"startdate\",\"data\":{}},{\"name\":\"enddate\",\"data\":{}},{\"name\":\"filename\",\"data\":{\"stringValue\":\"\"}},{\"name\":\"path\",\"data\":{\"stringValue\":\"\"}},{\"name\":\"template\",\"data\":{\"stringValue\":\"OpenMarket/SiteEntryTemplate\"}},{\"name\":\"urlexternaldoc\",\"data\":{}},{\"name\":\"externaldoctype\",\"data\":{\"stringValue\":\"\"}},{\"name\":\"urlexternaldocxml\",\"data\":{}},{\"name\":\"fw_uid\",\"data\":{\"stringValue\":\"80cbb808-78ec-4c2c-bb7d-fce3cb6a7766\"}},{\"name\":\"id\",\"data\":{\"longValue\":1439388193721}},{\"name\":\"fwtags\",\"data\":{\"stringList\":[]}},{\"name\":\"Webreference\",\"data\":{\"webreferenceList\":[]}},{\"name\":\"category\",\"data\":{\"stringValue\":\"\"}},{\"name\":\"pagename\",\"data\":{\"stringValue\":\"AAAgileInfo\"}},{\"name\":\"cs_wrapper\",\"data\":{\"stringValue\":\"n\"}},{\"name\":\"cselement_id\",\"data\":{\"stringValue\":\"CSElement:0\"}},{\"name\":\"controller\",\"data\":{\"stringValue\":\"\"}},{\"name\":\"acl\",\"data\":{\"stringValue\":\"\"}},{\"name\":\"cscacheinfo\",\"data\":{\"stringValue\":\"false\"}},{\"name\":\"csstatus\",\"data\":{\"stringValue\":\"live\"}},{\"name\":\"defaultarguments\",\"data\":{\"structList\":[{\"item\":[{\"name\":\"name\",\"data\":{\"stringValue\":\"rendermode\"}},{\"name\":\"value\",\"data\":{\"stringValue\":\"live\"}}]},{\"item\":[{\"name\":\"name\",\"data\":{\"stringValue\":\"seid\"}},{\"name\":\"value\",\"data\":{\"stringValue\":\"1439388193721\"}}]},{\"item\":[{\"name\":\"name\",\"data\":{\"stringValue\":\"site\"}},{\"name\":\"value\",\"data\":{\"stringValue\":\"AdminSite\"}}]}]}},{\"name\":\"pagecriteria\",\"data\":{\"stringList\":[\"navid\",\"rendermode\",\"seid\",\"site\",\"sitepfx\",\"ft_ss\"]}},{\"name\":\"rootelement\",\"data\":{\"stringValue\":\"agilesites/AAAgileInfo\"}},{\"name\":\"sscacheinfo\",\"data\":{\"stringValue\":\"false\"}},{\"name\":\"pageletonly\",\"data\":{\"stringValue\":\"false\"}}],\"associations\":{\"href\":\"http://10.0.2.15:7003/sites/REST/sites/AdminSite/types/SiteEntry/assets/1439388193721/associations\",\"association\":[]},\"dimension\":[],\"dimensionParent\":[],\"parent\":[]}\"\"\")"
   ]
  },
  {
   "cell_type": "code",
   "execution_count": 20,
   "metadata": {
    "collapsed": false,
    "scrolled": false
   },
   "outputs": [
    {
     "data": {
      "text/plain": [
       "\u001b[36mres15\u001b[0m: \u001b[32mammonite\u001b[0m.\u001b[32mpprint\u001b[0m.\u001b[32mShow\u001b[0m[\u001b[32mString\u001b[0m] = \u001b[32m\"\"\"\n",
       "{\n",
       "  \"data\":{\n",
       "    \n",
       "  },\n",
       "  \"data\":{\n",
       "    \n",
       "  },\n",
       "  \"data\":{\n",
       "    \"stringValue\":\"\"\n",
       "  },\n",
       "  \"data\":{\n",
       "    \"stringValue\":\"\"\n",
       "  },\n",
       "  \"data\":{\n",
       "    \"stringValue\":\"OpenMarket/SiteEntryTemplate\"\n",
       "  },\n",
       "  \"data\":{\n",
       "    \n",
       "  },\n",
       "  \"data\":{\n",
       "    \"stringValue\":\"\"\n",
       "  },\n",
       "  \"data\":{\n",
       "    \n",
       "  },\n",
       "  \"data\":{\n",
       "    \"stringValue\":\"80cbb808-78ec-4c2c-bb7d-fce3cb6a7766\"\n",
       "  },\n",
       "  \"data\":{\n",
       "    \"longValue\":1439388193721\n",
       "  },\n",
       "  \"data\":{\n",
       "    \"stringList\":[]\n",
       "  },\n",
       "  \"data\":{\n",
       "    \"webreferenceList\":[]\n",
       "  },\n",
       "  \"data\":{\n",
       "    \"stringValue\":\"\"\n",
       "  },\n",
       "  \"data\":{\n",
       "    \"stringValue\":\"AAAgileInfo\"\n",
       "  },\n",
       "  \"data\":{\n",
       "    \"stringValue\":\"n\"\n",
       "  },\n",
       "  \"data\":{\n",
       "    \"stringValue\":\"CSElement:0\"\n",
       "  },\n",
       "  \"data\":{\n",
       "    \"stringValue\":\"\"\n",
       "  },\n",
       "  \"data\":{\n",
       "    \"stringValue\":\"\"\n",
       "  },\n",
       "  \"data\":{\n",
       "    \"stringValue\":\"false\"\n",
       "  },\n",
       "  \"data\":{\n",
       "    \"stringValue\":\"live\"\n",
       "  },\n",
       "  \"data\":{\n",
       "    \"structList\":[{\n",
       "      \"item\":[{\n",
       "        \"name\":\"name\",\n",
       "        \"data\":{\n",
       "          \"stringValue\":\"rendermode\"\n",
       "        }\n",
       "      },{\n",
       "        \"name\":\"value\",\n",
       "        \"data\":{\n",
       "          \"stringValue\":\"live\"\n",
       "        }\n",
       "      }]\n",
       "    },{\n",
       "      \"item\":[{\n",
       "        \"name\":\"name\",\n",
       "        \"data\":{\n",
       "          \"stringValue\":\"seid\"\n",
       "        }\n",
       "      },{\n",
       "        \"name\":\"value\",\n",
       "        \"data\":{\n",
       "          \"stringValue\":\"1439388193721\"\n",
       "        }\n",
       "      }]\n",
       "    },{\n",
       "      \"item\":[{\n",
       "        \"name\":\"name\",\n",
       "        \"data\":{\n",
       "          \"stringValue\":\"site\"\n",
       "        }\n",
       "      },{\n",
       "        \"name\":\"value\",\n",
       "        \"data\":{\n",
       "          \"stringValue\":\"AdminSite\"\n",
       "        }\n",
       "      }]\n",
       "    }]\n",
       "  },\n",
       "  \"data\":{\n",
       "    \"stringValue\":\"rendermode\"\n",
       "  },\n",
       "  \"data\":{\n",
       "    \"stringValue\":\"live\"\n",
       "  },\n",
       "  \"data\":{\n",
       "    \"stringValue\":\"seid\"\n",
       "  },\n",
       "  \"data\":{\n",
       "    \"stringValue\":\"1439388193721\"\n",
       "  },\n",
       "  \"data\":{\n",
       "    \"stringValue\":\"site\"\n",
       "  },\n",
       "  \"data\":{\n",
       "    \"stringValue\":\"AdminSite\"\n",
       "  },\n",
       "  \"data\":{\n",
       "    \"stringList\":[\"navid\",\"rendermode\",\"seid\",\"site\",\"sitepfx\",\"ft_ss\"]\n",
       "  },\n",
       "  \"data\":{\n",
       "    \"stringValue\":\"agilesites/AAAgileInfo\"\n",
       "  },\n",
       "  \"data\":{\n",
       "    \"stringValue\":\"false\"\n",
       "  },\n",
       "  \"data\":{\n",
       "    \"stringValue\":\"false\"\n",
       "  }\n",
       "}\n",
       "\"\"\"\u001b[0m"
      ]
     },
     "metadata": {},
     "output_type": "display_data"
    }
   ],
   "source": [
    "show(pretty(render(jjj \\\\ \"data\")))\n"
   ]
  },
  {
   "cell_type": "code",
   "execution_count": 18,
   "metadata": {
    "collapsed": false,
    "scrolled": false
   },
   "outputs": [
    {
     "data": {
      "text/plain": [
       "\u001b[36mid\u001b[0m: \u001b[32mString\u001b[0m = \u001b[32m\"123\"\u001b[0m\n",
       "\u001b[36mcsid\u001b[0m: \u001b[32mString\u001b[0m = \u001b[32m\"456\"\u001b[0m\n",
       "\u001b[36mres13_2\u001b[0m: \u001b[32mammonite\u001b[0m.\u001b[32mpprint\u001b[0m.\u001b[32mShow\u001b[0m[\u001b[32mString\u001b[0m] = \u001b[32m\"\"\"\n",
       "{\n",
       "  \"id\":\"SiteEntry:1439388193707\",\n",
       "  \"name\":\"AAAgileInfo\",\n",
       "  \"createdby\":\"fwadmin\",\n",
       "  \"createddate\":\"2015-10-31T09:59:59.895Z\",\n",
       "  \"description\":\"\",\n",
       "  \"publist\":[\"AdminSite\"],\n",
       "  \"status\":\"PL\",\n",
       "  \"subtype\":\"\",\n",
       "  \"updatedby\":\"fwadmin\",\n",
       "  \"updateddate\":\"2015-10-31T09:59:59.895Z\",\n",
       "  \"attribute\":[{\n",
       "    \"name\":\"startdate\",\n",
       "    \"data\":{\n",
       "      \n",
       "    }\n",
       "  },{\n",
       "    \"name\":\"enddate\",\n",
       "    \"data\":{\n",
       "      \n",
       "    }\n",
       "  },{\n",
       "    \"name\":\"filename\",\n",
       "    \"data\":{\n",
       "      \"stringValue\":\"\"\n",
       "    }\n",
       "  },{\n",
       "    \"name\":\"path\",\n",
       "    \"data\":{\n",
       "      \"stringValue\":\"\"\n",
       "    }\n",
       "  },{\n",
       "    \"name\":\"template\",\n",
       "    \"data\":{\n",
       "      \"stringValue\":\"OpenMarket/SiteEntryTemplate\"\n",
       "    }\n",
       "  },{\n",
       "    \"name\":\"urlexternaldoc\",\n",
       "    \"data\":{\n",
       "      \n",
       "    }\n",
       "  },{\n",
       "    \"name\":\"externaldoctype\",\n",
       "    \"data\":{\n",
       "      \"stringValue\":\"\"\n",
       "    }\n",
       "  },{\n",
       "    \"name\":\"urlexternaldocxml\",\n",
       "    \"data\":{\n",
       "      \n",
       "    }\n",
       "  },{\n",
       "    \"name\":\"fw_uid\",\n",
       "    \"data\":{\n",
       "      \"stringValue\":\"6945b1f7-aaf5-42e0-b56a-009ef12355c1\"\n",
       "    }\n",
       "  },{\n",
       "    \"name\":\"id\",\n",
       "    \"data\":{\n",
       "      \"longValue\":1439388193707\n",
       "    }\n",
       "  },{\n",
       "    \"name\":\"fwtags\",\n",
       "    \"data\":{\n",
       "      \"stringList\":[]\n",
       "    }\n",
       "  },{\n",
       "    \"name\":\"Webreference\",\n",
       "    \"data\":{\n",
       "      \"webreferenceList\":[]\n",
       "    }\n",
       "  },{\n",
       "    \"name\":\"category\",\n",
       "    \"data\":{\n",
       "      \"stringValue\":\"\"\n",
       "    }\n",
       "  },{\n",
       "    \"name\":\"pagename\",\n",
       "    \"data\":{\n",
       "      \"stringValue\":\"AAAgileInfo\"\n",
       "    }\n",
       "  },{\n",
       "    \"name\":\"cs_wrapper\",\n",
       "    \"data\":{\n",
       "      \"stringValue\":\"n\"\n",
       "    }\n",
       "  },{\n",
       "    \"name\":\"cselement_id\",\n",
       "    \"data\":{\n",
       "      \"stringValue\":\"CSElement:0\"\n",
       "    }\n",
       "  },{\n",
       "    \"name\":\"controller\",\n",
       "    \"data\":{\n",
       "      \"stringValue\":\"\"\n",
       "    }\n",
       "  },{\n",
       "    \"name\":\"acl\",\n",
       "    \"data\":{\n",
       "      \"stringValue\":\"\"\n",
       "    }\n",
       "  },{\n",
       "    \"name\":\"cscacheinfo\",\n",
       "    \"data\":{\n",
       "      \"stringValue\":\"false\"\n",
       "    }\n",
       "  },{\n",
       "    \"name\":\"csstatus\",\n",
       "    \"data\":{\n",
       "      \"stringValue\":\"live\"\n",
       "    }\n",
       "  },{\n",
       "    \"name\":\"defaultarguments\",\n",
       "    \"data\":{\n",
       "      \"structList\":[{\n",
       "        \"item\":[{\n",
       "          \"name\":\"name\",\n",
       "          \"data\":{\n",
       "            \"stringValue\":\"rendermode\"\n",
       "          }\n",
       "        },{\n",
       "          \"name\":\"value\",\n",
       "          \"data\":{\n",
       "            \"stringValue\":\"live\"\n",
       "          }\n",
       "        }]\n",
       "      },{\n",
       "        \"item\":[{\n",
       "          \"name\":\"name\",\n",
       "          \"data\":{\n",
       "            \"stringValue\":\"seid\"\n",
       "          }\n",
       "        },{\n",
       "          \"name\":\"value\",\n",
       "          \"data\":{\n",
       "            \"stringValue\":\"123\"\n",
       "          }\n",
       "        }]\n",
       "      },{\n",
       "        \"item\":[{\n",
       "          \"name\":\"name\",\n",
       "          \"data\":{\n",
       "            \"stringValue\":\"site\"\n",
       "          }\n",
       "        },{\n",
       "          \"name\":\"value\",\n",
       "          \"data\":{\n",
       "            \"stringValue\":\"AdminSite\"\n",
       "          }\n",
       "        }]\n",
       "      }]\n",
       "    }\n",
       "  },{\n",
       "    \"name\":\"pagecriteria\",\n",
       "    \"data\":{\n",
       "      \"stringList\":[\"navid\",\"rendermode\",\"seid\",\"site\",\"sitepfx\",\"ft_ss\"]\n",
       "    }\n",
       "  },{\n",
       "    \"name\":\"rootelement\",\n",
       "    \"data\":{\n",
       "      \"stringValue\":\"agilesites/AAAgileInfo\"\n",
       "    }\n",
       "  },{\n",
       "    \"name\":\"sscacheinfo\",\n",
       "    \"data\":{\n",
       "      \"stringValue\":\"false\"\n",
       "    }\n",
       "  },{\n",
       "    \"name\":\"pageletonly\",\n",
       "    \"data\":{\n",
       "      \"stringValue\":\"false\"\n",
       "    }\n",
       "  }],\n",
       "  \"associations\":{\n",
       "    \"href\":\"http://10.0.2.15:7003/sites/REST/sites/AdminSite/types/SiteEntry/assets/1439388193707/associations\",\n",
       "    \"association\":[]\n",
       "  },\n",
       "  \"dimension\":[],\n",
       "  \"dimensionParent\":[],\n",
       "  \"parent\":[]\n",
       "}\n",
       "\"\"\"\u001b[0m"
      ]
     },
     "metadata": {},
     "output_type": "display_data"
    }
   ],
   "source": [
    "val id = \"123\"\n",
    "val csid = \"456\"\n",
    "show(pretty(render(jjj transform {   \n",
    "      case JField(\"data\", JObject(List(JField(\"stringValue\", JString(\"CSID:0\"))))) =>\n",
    "        JField(\"data\", JObject(List(JField(\"stringValue\", JString(s\"CSElement:${csid}\")))))\n",
    "\n",
    "      case JField(\"data\", JObject(List(JField(\"stringValue\", JString(\"SEID:0\"))))) =>\n",
    "        JField(\"data\", JObject(List(JField(\"stringValue\", JString(s\"${id}\")))))\n",
    "})))"
   ]
  }
 ],
 "metadata": {
  "kernelspec": {
   "display_name": "Scala 2.11",
   "language": "scala211",
   "name": "scala211"
  },
  "language_info": {
   "codemirror_mode": "text/x-scala",
   "file_extension": "scala",
   "mimetype": "text/x-scala",
   "name": "scala211",
   "pygments_lexer": "scala",
   "version": "2.11.6"
  }
 },
 "nbformat": 4,
 "nbformat_minor": 0
}
