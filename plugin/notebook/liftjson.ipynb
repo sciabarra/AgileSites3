{
 "cells": [
  {
   "cell_type": "code",
   "execution_count": 1,
   "metadata": {
    "collapsed": false,
    "scrolled": true
   },
   "outputs": [
    {
     "data": {
      "text/plain": []
     },
     "metadata": {},
     "output_type": "display_data"
    }
   ],
   "source": [
    "load.jar(\"\"\"/Users/msciab/.ivy2/cache/net.liftweb/lift-json_2.11/jars/lift-json_2.11-2.6.jar\"\"\")"
   ]
  },
  {
   "cell_type": "code",
   "execution_count": 2,
   "metadata": {
    "collapsed": false,
    "scrolled": true
   },
   "outputs": [
    {
     "data": {
      "text/plain": [
       "\u001b[32mimport \u001b[36mnet.liftweb.json._\u001b[0m\n",
       "\u001b[32mimport \u001b[36mnet.liftweb.json.JsonDSL._\u001b[0m\n",
       "\u001b[32mimport \u001b[36mscala.io._\u001b[0m"
      ]
     },
     "metadata": {},
     "output_type": "display_data"
    }
   ],
   "source": [
    "import net.liftweb.json._\n",
    "import net.liftweb.json.JsonDSL._\n",
    "import scala.io._\n"
   ]
  },
  {
   "cell_type": "code",
   "execution_count": 3,
   "metadata": {
    "collapsed": false,
    "scrolled": false
   },
   "outputs": [
    {
     "data": {
      "text/plain": [
       "\u001b[36mfile\u001b[0m: \u001b[32mString\u001b[0m = \u001b[32m\"\"\"\n",
       "{\n",
       "  \"id\":\"CSElement:1439388193895\",\n",
       "  \"name\":\"AAAgileInfo\",\n",
       "  \"createdby\":\"fwadmin\",\n",
       "  \"createddate\":\"2015-10-31T16:05:57.326Z\",\n",
       "  \"description\":\"AgileSites CSElement AAAgileInfo\",\n",
       "  \"publist\":[\"AdminSite\"],\n",
       "  \"status\":\"ED\",\n",
       "  \"subtype\":\"\",\n",
       "  \"updatedby\":\"agilesites\",\n",
       "  \"updatedby\":\"2015-11-02T10:46:44Z\",\n",
       "  \"attribute\":[{\n",
       "    \"name\":\"startdate\",\n",
       "    \"data\":{\n",
       "\u001b[33m...\u001b[0m\n",
       "\u001b[36mjson\u001b[0m: \u001b[32mJValue\u001b[0m = JObject(List(JField(id,JString(CSElement:1439388193895)), JField(name,JString(AAAgileInfo)), JField(createdby,JString(fwadmin)), JField(createddate,JString(2015-10-31T16:05:57.326Z)), JField(description,JString(AgileSites CSElement AAAgileInfo)), JField(publist,JArray(List(JString(AdminSite)))), JField(status,JString(ED)), JField(subtype,JString()), JField(updatedby,JString(agilesites)), JField(updatedby,JString(2015-11-02T10:46:44Z)), JField(attribute,JArray(List(JObject(List(JField(name,JString(startdate)), JField(data,JObject(List())))), JObject(List(JField(name,JString(enddate)), JField(data,JObject(List())))), JObject(List(JField(name,JString(filename)), JField(data,JObject(List(JField(stringValue,JString())))))), JObject(List(JField(name,JString(path)), JField(data,JObject(List(JField(stringValue,JString())))))), JObject(List(JField(name,JString(template)), JField(data,JObject(List(JField(stringValue,JString())))))), JObject(List(JField(name,JString(urlexternaldoc)), JField(data,JObject(List())))), JObject(List(JField(name,JString(externaldoctype)), JField(data,JObject(List(JField(stringValue,JString())))))), JObject(List(JField(name,JString(urlexternaldocxml)), JField(data,JObject(List())))), JObject(List(JField(name,JString(fw_uid)), JField(data,JObject(List(JField(stringValue,JString(41d5a517-dc29-4dfe-8585-8cebec9ef8b4))))))), JObject(List(JField(name,JString(id)), JField(data,JObject(List(JField(longValue,JInt(1439388193895))))))), JObject(List(JField(name,JString(\u001b[33m...\u001b[0m"
      ]
     },
     "metadata": {},
     "output_type": "display_data"
    }
   ],
   "source": [
    "val file = Source.fromFile(\"cselement.json\").mkString\n",
    "val json = parse( file )"
   ]
  },
  {
   "cell_type": "code",
   "execution_count": 13,
   "metadata": {
    "collapsed": false
   },
   "outputs": [
    {
     "data": {
      "text/plain": [
       "\u001b[32mimport \u001b[36msun.misc.BASE64Decoder\u001b[0m\n",
       "\u001b[36mdecoder\u001b[0m: \u001b[32msun\u001b[0m.\u001b[32mmisc\u001b[0m.\u001b[32mBASE64Decoder\u001b[0m = sun.misc.BASE64Decoder@537db2a7\n",
       "\u001b[36mbase64\u001b[0m: \u001b[32mString\u001b[0m = \u001b[32m\"PCUtLSBETyBOT1QgRURJVCAtIEdFTkVSQVRFRCBCWSBBZ2lsZVNpdGVzCi0tJT48JUAgcGFnZSBhdXRvRmx1c2g9InRydWUiIGJ1ZmZlcj0iMTAyNGtiIgolPjwlQCB0YWdsaWIgcHJlZml4PSJjcyIgdXJpPSJmdXR1cmV0ZW5zZV9jcy9mdGNzMV8wLnRsZCIKJT48JUAgdGFnbGliIHByZWZpeD0iaWNzIiB1cmk9ImZ1dHVyZXRlbnNlX2NzL2ljcy50bGQiCiU+PCVAIHRhZ2xpYiBwcmVmaXg9ImFzc2V0IiB1cmk9ImZ1dHVyZXRlbnNlX2NzL2Fzc2V0LnRsZCIKJT48Y3M6ZnRjcz48JSAvLyAxClN0cmluZyBqYXIgPSBpY3MuR2V0VmFyKCJqYXIiKTsKaWYoamFyIT1udWxsKSB7CiAgIGJ5dGVbXSBieXRlcyA9IG9yZy5hcGFjaGUuY29tbW9ucy5pby5JT1V0aWxzLnRvQnl0ZUFycmF5KGFwcGxpY2F0aW9uLmdldFJlc291cmNlQXNTdHJlYW0oamFyKSk7CiAgIFN5c3RlbS5vdXQucHJpbnRsbihieXRlcy5sZW5ndGgpOwogICBTdHJpbmcgZmlsZSA9IG5ldyBTdHJpbmcob3JnLmFwYWNoZS5jb21tb25zLmNvZGVjLmJpbmFyeS5CYXNlNjQuZW5jb2RlQmFzZTY0KGJ5dGVzKSk7CiAgIGljcy5TdHJlYW1UZXh0KCJcIiIpOwogICBpY3MuU3RyZWFtVGV4dChmaWxlKTsKICAgaWNzLlN0cmVhbVRleHQoIlwiIik7CiAgIFN5c3RlbS5vdXQucHJpbnRsbigic2VudCIpOwp9IGVsc2UgewolPnsiaW5mbyI6WzwlClN0cmluZ1tdIHR5cGVzID0gbmV3IFN0cmluZ1tdeyAiQ1NFbGVtZW50IiwgIlNpdGVFbnRyeSIgfTsKZm9yKFN0cmluZyB0eXBlOiB0eXBlcykgewolPgo8YXNzZXQ6bGlzdCB0eXBlPSc8JT10eXBlJT4nICBsaXN0PSc8JT10eXBlJT4nLz4KPGljczpsaXN0bG9vcCBsaXN0bmFtZT0nPCU9dHlwZSU+Jz4KICAgIDxpY3M6bGlzdGdldCBsaXN0bmFtZT0nPCU9dHlwZSU+JyBmaWVsZG5hbWU9Im5hbWUiIG91dHB1dD0ibmFtZSIvPgogICAgPGljczpsaXN0Z2V0IGxpc3RuYW1lPSc8JT10eXBlJT4nIGZpZWxkbmFtZT0iaWQiIG91dHB1dD0iaWQiLz4KPCUKICAgIFN0cmluZyBuYW1lID0gaWNzLkdldFZhcigibmFtZSIpOwogICAgU3RyaW5nIGlkID0gaWNzLkdldFZhcigiaWQiKTsKICAgIGlmKG5hbWUuc3RhcnRzV2l0aCgiQUFBZ2lsZSIpKSB7CiU+eyAidHlwZSI6ICI8JT\u001b[33m...\u001b[0m\n",
       "\u001b[36mres9_3\u001b[0m: \u001b[32mString\u001b[0m = \u001b[32m\"\"\"\n",
       "<%-- DO NOT EDIT - GENERATED BY AgileSites\n",
       "--%><%@ page autoFlush=\"true\" buffer=\"1024kb\"\n",
       "%><%@ taglib prefix=\"cs\" uri=\"futuretense_cs/ftcs1_0.tld\"\n",
       "%><%@ taglib prefix=\"ics\" uri=\"futuretense_cs/ics.tld\"\n",
       "%><%@ taglib prefix=\"asset\" uri=\"futuretense_cs/asset.tld\"\n",
       "%><cs:ftcs><% // 1\n",
       "String jar = ics.GetVar(\"jar\");\n",
       "if(jar!=null) {\n",
       "   byte[] bytes = org.apache.commons.io.IOUtils.toByteArray(application.getResourceAsStream(jar));\n",
       "   System.out.println(bytes.length);\n",
       "   String file = new String(org.apache.commons.codec.binary.Base64.encodeBase64(bytes));\n",
       "   ics.StreamText(\"\\\"\");\n",
       "   ics.StreamText(file);\n",
       "   ics.StreamText(\"\\\"\");\n",
       "\u001b[33m...\u001b[0m"
      ]
     },
     "metadata": {},
     "output_type": "display_data"
    }
   ],
   "source": [
    "import sun.misc.BASE64Decoder\n",
    "val decoder = new BASE64Decoder\n",
    "val JString(base64) = json \\\\ \"blobValue\" \\ \"filedata\"\n",
    "new String(decoder.decodeBuffer(base64))"
   ]
  },
  {
   "cell_type": "code",
   "execution_count": null,
   "metadata": {
    "collapsed": true
   },
   "outputs": [],
   "source": []
  },
  {
   "cell_type": "code",
   "execution_count": 4,
   "metadata": {
    "collapsed": false,
    "scrolled": true
   },
   "outputs": [
    {
     "data": {
      "text/plain": [
       "\u001b[36mids\u001b[0m: \u001b[32mString\u001b[0m = \u001b[32m\"CSElement:1439388193895\"\u001b[0m\n",
       "\u001b[36mid\u001b[0m: \u001b[32mString\u001b[0m = \u001b[32m\"1439388193895\"\u001b[0m\n",
       "\u001b[36mres3_2\u001b[0m: \u001b[32mBoolean\u001b[0m = true"
      ]
     },
     "metadata": {},
     "output_type": "display_data"
    }
   ],
   "source": [
    "val JString(ids) =  (json \\ \"id\")\n",
    "val id = ids.split(\"\\\\:\").tail.head\n",
    "(json \\ \"nonce\") == JNothing"
   ]
  },
  {
   "cell_type": "code",
   "execution_count": 5,
   "metadata": {
    "collapsed": false,
    "scrolled": true
   },
   "outputs": [
    {
     "data": {
      "text/plain": [
       "\u001b[36mtoRemove\u001b[0m: \u001b[32mJField\u001b[0m = \u001b[33mJField\u001b[0m(\u001b[32m\"id\"\u001b[0m, JString(CSElement:1439388193895))\n",
       "\u001b[36mres4_1\u001b[0m: \u001b[32mJValue\u001b[0m = JObject(List(JField(id,JNothing), JField(name,JString(AAAgileInfo)), JField(createdby,JString(fwadmin)), JField(createddate,JString(2015-10-31T16:05:57.326Z)), JField(description,JString(AgileSites CSElement AAAgileInfo)), JField(publist,JArray(List(JString(AdminSite)))), JField(status,JString(ED)), JField(subtype,JString()), JField(updatedby,JString(agilesites)), JField(updatedby,JString(2015-11-02T10:46:44Z)), JField(attribute,JArray(List(JObject(List(JField(name,JString(startdate)), JField(data,JObject(List())))), JObject(List(JField(name,JString(enddate)), JField(data,JObject(List())))), JObject(List(JField(name,JString(filename)), JField(data,JObject(List(JField(stringValue,JString())))))), JObject(List(JField(name,JString(path)), JField(data,JObject(List(JField(stringValue,JString())))))), JObject(List(JField(name,JString(template)), JField(data,JObject(List(JField(stringValue,JString())))))), JObject(List(JField(name,JString(urlexternaldoc)), JField(data,JObject(List())))), JObject(List(JField(name,JString(externaldoctype)), JField(data,JObject(List(JField(stringValue,JString())))))), JObject(List(JField(name,JString(urlexternaldocxml)), JField(data,JObject(List())))), JObject(List(JField(name,JString(fw_uid)), JField(data,JObject(List(JField(stringValue,JString(41d5a517-dc29-4dfe-8585-8cebec9ef8b4))))))), JObject(List(JField(name,JString(id)), JField(data,JObject(List(JField(longValue,JInt(1439388193895))))))), JObject(List(JField(name,JString(fwtags)), JField(data,JO\u001b[33m...\u001b[0m\n",
       "\u001b[36mres4_2\u001b[0m: \u001b[32mString\u001b[0m = \u001b[32m\"\"\"\n",
       "{\"name\":\"AAAgileInfo\",\"createdby\":\"fwadmin\",\"createddate\":\"2015-10-31T16:05:57.326Z\",\"description\":\"AgileSites CSElement AAAgileInfo\",\"publist\":[\"AdminSite\"],\"status\":\"ED\",\"subtype\":\"\",\"updatedby\":\"agilesites\",\"updatedby\":\"2015-11-02T10:46:44Z\",\"attribute\":[{\"name\":\"startdate\",\"data\":{}},{\"name\":\"enddate\",\"data\":{}},{\"name\":\"filename\",\"data\":{\"stringValue\":\"\"}},{\"name\":\"path\",\"data\":{\"stringValue\":\"\"}},{\"name\":\"template\",\"data\":{\"stringValue\":\"\"}},{\"name\":\"urlexternaldoc\",\"data\":{}},{\"name\":\"externaldoctype\",\"data\":{\"stringValue\":\"\"}},{\"name\":\"urlexternaldocxml\",\"data\":{}},{\"name\":\"fw_uid\",\"data\":{\"stringValue\":\"41d5a517-dc29-4dfe-8585-8cebec9ef8b4\"}},{\"name\":\"id\",\"data\":{\"longValue\":1439388193895}},{\"name\":\"fwtags\",\"data\":{\"stringList\":[]}},{\"name\":\"Webreference\",\"data\":{\"webreferenceList\":[]}},{\"name\":\"Composition\",\"data\":{\"structList\":[]}},{\"name\":\"Mapping\",\"data\":{\"structList\":[]}},{\"name\":\"Arguments\",\"data\":{\"structList\":[]}},{\"name\":\"category\",\"data\":{\"stringValue\":\"\"}},{\"name\":\"rootelement\",\"data\":{\"stringValue\":\"agilesites/AAAgileInfo\"}},{\"name\":\"elementname\",\"data\":{\"stringValue\":\"agilesites/AAAgileInfo\"}},{\"name\":\"resdetails1\",\"data\":{\"stringValue\":\"eid=1439388193895\"}},{\"name\":\"resdetails2\",\"data\":{\"stringValue\":\"\"}},{\"name\":\"url\",\"data\":{\"blobValue\":{\"filename\":\"AAAgileInfo,0.jsp\",\"foldername\":\"/u01/software/Apps/WebLogic/WebLogic12.2.1_stage18/user_projects/domains\u001b[33m...\u001b[0m"
      ]
     },
     "metadata": {},
     "output_type": "display_data"
    }
   ],
   "source": [
    "val toRemove = JField(\"id\", JString(\"CSElement:1439388193895\"))\n",
    "json remove { _ == toRemove }\n",
    "compact(render(json remove { case JField(\"id\", _) => true ; case _ => false }))\n"
   ]
  },
  {
   "cell_type": "code",
   "execution_count": null,
   "metadata": {
    "collapsed": false,
    "scrolled": true
   },
   "outputs": [],
   "source": [
    "compact(render(json transform { \n",
    "      case JField(\"id\", _) => JNothing \n",
    "}))\n"
   ]
  },
  {
   "cell_type": "code",
   "execution_count": null,
   "metadata": {
    "collapsed": false,
    "scrolled": true
   },
   "outputs": [],
   "source": [
    "val file = new java.io.File(\"Hello.txt\")\n",
    "file.getName().split(\"\\\\.\").head\n",
    "val file1 = new java.io.File(\"Hello\")\n",
    "file.getName().split(\"\\\\.\").head\n"
   ]
  },
  {
   "cell_type": "code",
   "execution_count": null,
   "metadata": {
    "collapsed": false,
    "scrolled": true
   },
   "outputs": [],
   "source": [
    "parse(\"\"\"{\n",
    "    \"name\":\"fw_uid\",\n",
    "    \"data\":{\n",
    "      \"stringValue\":\"80649e86-db14-429f-b714-b346fcf22655\"\n",
    "    }}\"\"\")"
   ]
  },
  {
   "cell_type": "code",
   "execution_count": null,
   "metadata": {
    "collapsed": false,
    "scrolled": true
   },
   "outputs": [],
   "source": [
    "parse(\"\"\"{\n",
    "     \"name\":\"url\",\n",
    "     \"data\":{\n",
    "      \"blobValue\":{\n",
    "         \"filename\":\"XXX\",\n",
    "         \"foldername\":\"YYY\",\n",
    "         \"filedata\":\"ZZZ\",\n",
    "         \"webreferences\":[]\n",
    "       }\n",
    "     }\n",
    "   }\"\"\")"
   ]
  },
  {
   "cell_type": "code",
   "execution_count": null,
   "metadata": {
    "collapsed": false,
    "scrolled": true
   },
   "outputs": [],
   "source": [
    "parse(\"\"\"{\n",
    "    \"name\":\"rootelement\",\n",
    "     \"data\":{\n",
    "       \"stringValue\":\"Samples/Common/Banner\"\n",
    "  }}\n",
    "\"\"\")"
   ]
  },
  {
   "cell_type": "code",
   "execution_count": null,
   "metadata": {
    "collapsed": false,
    "scrolled": true
   },
   "outputs": [],
   "source": [
    "(parse(\"\"\"{ \"publist\": [\"Hello\"] }\"\"\"))"
   ]
  },
  {
   "cell_type": "code",
   "execution_count": null,
   "metadata": {
    "collapsed": false,
    "scrolled": true
   },
   "outputs": [],
   "source": [
    "val json = (\"a\" -> 1) ~ (\"b\" -> 2)"
   ]
  },
  {
   "cell_type": "code",
   "execution_count": null,
   "metadata": {
    "collapsed": false,
    "scrolled": true
   },
   "outputs": [],
   "source": [
    "json transform {\n",
    "    \n",
    "    case JObject((\"a\" -> 1)) => (\"a\" -> 2)\n",
    "    \n",
    "}"
   ]
  },
  {
   "cell_type": "code",
   "execution_count": null,
   "metadata": {
    "collapsed": false,
    "scrolled": true
   },
   "outputs": [],
   "source": [
    "val p = parse(\"\"\"{\"info\":[\n",
    "{ \"type\": \"CSElement\",\n",
    "    \"name\": \"AAAgileInfo\" ,\n",
    "    \"id\": \"1439388193595\"\n",
    "},\n",
    "    \n",
    "    \n",
    "{ \"type\": \"SiteEntry\",\n",
    "    \"name\": \"AAAgileReset\" ,\n",
    "    \"id\": \"1439388193494\"\n",
    "},\n",
    "\n",
    "    \n",
    "    \n",
    "{ \"type\": \"SiteEntry\",\n",
    "    \"name\": \"AAAgileInfo\" ,\n",
    "    \"id\": \"1439388193574\"\n",
    "},\n",
    "\n",
    "\n",
    "{ \"type\": \"Info\",\n",
    "   \"name\": \"version\",\n",
    "   \"id\": \"299001\"\n",
    "}]}\n",
    "\n",
    "\"\"\")"
   ]
  },
  {
   "cell_type": "code",
   "execution_count": null,
   "metadata": {
    "collapsed": true,
    "scrolled": true
   },
   "outputs": [],
   "source": []
  },
  {
   "cell_type": "code",
   "execution_count": null,
   "metadata": {
    "collapsed": false,
    "scrolled": true
   },
   "outputs": [],
   "source": [
    "val ls = for { \n",
    "    JArray(list) <- p \\ \"info\"\n",
    "    node <- list\n",
    "} yield { \n",
    "     // val JString(id) = node \\ \"id\"\n",
    "     //\n",
    "     //val JString(stype) = node \\ \"type\"\n",
    "     //s\"${stype}:${name}\" -> id\n",
    "    //id\n",
    "    val JString(stype) = node \\ \"type\"\n",
    "    val JString(name) = node \\ \"name\"\n",
    "    val JString(id) = node \\ \"id\"\n",
    "    s\"${stype}:${name}\" -> id    \n",
    "}\n",
    "ls.toSeq.toMap"
   ]
  },
  {
   "cell_type": "code",
   "execution_count": null,
   "metadata": {
    "collapsed": true,
    "scrolled": true
   },
   "outputs": [],
   "source": []
  },
  {
   "cell_type": "code",
   "execution_count": null,
   "metadata": {
    "collapsed": false,
    "scrolled": true
   },
   "outputs": [],
   "source": [
    "ls.toSeq.toMap"
   ]
  },
  {
   "cell_type": "code",
   "execution_count": null,
   "metadata": {
    "collapsed": false,
    "scrolled": true
   },
   "outputs": [],
   "source": [
    "p \\ \"info\" "
   ]
  },
  {
   "cell_type": "code",
   "execution_count": null,
   "metadata": {
    "collapsed": false,
    "scrolled": true
   },
   "outputs": [],
   "source": [
    "val json = parse(\"\"\"{ \"a\": 1, \"b\": 2}\"\"\")"
   ]
  },
  {
   "cell_type": "code",
   "execution_count": null,
   "metadata": {
    "collapsed": false,
    "scrolled": true
   },
   "outputs": [],
   "source": [
    "val j = (\"a\" -> 1) ~ (\"c\" -> 3) "
   ]
  },
  {
   "cell_type": "code",
   "execution_count": null,
   "metadata": {
    "collapsed": false,
    "scrolled": true
   },
   "outputs": [],
   "source": [
    "val jj = json merge j"
   ]
  },
  {
   "cell_type": "code",
   "execution_count": null,
   "metadata": {
    "collapsed": false,
    "scrolled": true
   },
   "outputs": [],
   "source": [
    "pretty(render(jj))"
   ]
  },
  {
   "cell_type": "code",
   "execution_count": null,
   "metadata": {
    "collapsed": false,
    "scrolled": true
   },
   "outputs": [],
   "source": [
    "val jjj = parse(\"\"\" {\"id\":\"SiteEntry:1439388193721\",\"name\":\"AAAgileInfo\",\"createdby\":\"fwadmin\",\"createddate\":\"2015-10-31T10:22:19.060Z\",\"description\":\"\",\"publist\":[\"AdminSite\"],\"status\":\"PL\",\"subtype\":\"\",\"updatedby\":\"agilesites\",\"updatedby\":\"2015-10-31T10:22:19Z\",\"attribute\":[{\"name\":\"startdate\",\"data\":{}},{\"name\":\"enddate\",\"data\":{}},{\"name\":\"filename\",\"data\":{\"stringValue\":\"\"}},{\"name\":\"path\",\"data\":{\"stringValue\":\"\"}},{\"name\":\"template\",\"data\":{\"stringValue\":\"OpenMarket/SiteEntryTemplate\"}},{\"name\":\"urlexternaldoc\",\"data\":{}},{\"name\":\"externaldoctype\",\"data\":{\"stringValue\":\"\"}},{\"name\":\"urlexternaldocxml\",\"data\":{}},{\"name\":\"fw_uid\",\"data\":{\"stringValue\":\"80cbb808-78ec-4c2c-bb7d-fce3cb6a7766\"}},{\"name\":\"id\",\"data\":{\"longValue\":1439388193721}},{\"name\":\"fwtags\",\"data\":{\"stringList\":[]}},{\"name\":\"Webreference\",\"data\":{\"webreferenceList\":[]}},{\"name\":\"category\",\"data\":{\"stringValue\":\"\"}},{\"name\":\"pagename\",\"data\":{\"stringValue\":\"AAAgileInfo\"}},{\"name\":\"cs_wrapper\",\"data\":{\"stringValue\":\"n\"}},{\"name\":\"cselement_id\",\"data\":{\"stringValue\":\"CSElement:0\"}},{\"name\":\"controller\",\"data\":{\"stringValue\":\"\"}},{\"name\":\"acl\",\"data\":{\"stringValue\":\"\"}},{\"name\":\"cscacheinfo\",\"data\":{\"stringValue\":\"false\"}},{\"name\":\"csstatus\",\"data\":{\"stringValue\":\"live\"}},{\"name\":\"defaultarguments\",\"data\":{\"structList\":[{\"item\":[{\"name\":\"name\",\"data\":{\"stringValue\":\"rendermode\"}},{\"name\":\"value\",\"data\":{\"stringValue\":\"live\"}}]},{\"item\":[{\"name\":\"name\",\"data\":{\"stringValue\":\"seid\"}},{\"name\":\"value\",\"data\":{\"stringValue\":\"1439388193721\"}}]},{\"item\":[{\"name\":\"name\",\"data\":{\"stringValue\":\"site\"}},{\"name\":\"value\",\"data\":{\"stringValue\":\"AdminSite\"}}]}]}},{\"name\":\"pagecriteria\",\"data\":{\"stringList\":[\"navid\",\"rendermode\",\"seid\",\"site\",\"sitepfx\",\"ft_ss\"]}},{\"name\":\"rootelement\",\"data\":{\"stringValue\":\"agilesites/AAAgileInfo\"}},{\"name\":\"sscacheinfo\",\"data\":{\"stringValue\":\"false\"}},{\"name\":\"pageletonly\",\"data\":{\"stringValue\":\"false\"}}],\"associations\":{\"href\":\"http://10.0.2.15:7003/sites/REST/sites/AdminSite/types/SiteEntry/assets/1439388193721/associations\",\"association\":[]},\"dimension\":[],\"dimensionParent\":[],\"parent\":[]}\"\"\")"
   ]
  },
  {
   "cell_type": "code",
   "execution_count": null,
   "metadata": {
    "collapsed": false,
    "scrolled": false
   },
   "outputs": [],
   "source": [
    "show(pretty(render(jjj \\\\ \"data\")))\n"
   ]
  },
  {
   "cell_type": "code",
   "execution_count": null,
   "metadata": {
    "collapsed": false,
    "scrolled": false
   },
   "outputs": [],
   "source": [
    "val id = \"123\"\n",
    "val csid = \"456\"\n",
    "show(pretty(render(jjj transform {   \n",
    "      case JField(\"data\", JObject(List(JField(\"stringValue\", JString(\"CSID:0\"))))) =>\n",
    "        JField(\"data\", JObject(List(JField(\"stringValue\", JString(s\"CSElement:${csid}\")))))\n",
    "\n",
    "      case JField(\"data\", JObject(List(JField(\"stringValue\", JString(\"SEID:0\"))))) =>\n",
    "        JField(\"data\", JObject(List(JField(\"stringValue\", JString(s\"${id}\")))))\n",
    "})))"
   ]
  },
  {
   "cell_type": "code",
   "execution_count": null,
   "metadata": {
    "collapsed": false
   },
   "outputs": [],
   "source": [
    "parse(\"\"\"\n",
    "\"hello\"\n",
    "\"\"\")"
   ]
  },
  {
   "cell_type": "code",
   "execution_count": null,
   "metadata": {
    "collapsed": true
   },
   "outputs": [],
   "source": []
  },
  {
   "cell_type": "code",
   "execution_count": null,
   "metadata": {
    "collapsed": true
   },
   "outputs": [],
   "source": []
  },
  {
   "cell_type": "code",
   "execution_count": null,
   "metadata": {
    "collapsed": true
   },
   "outputs": [],
   "source": []
  }
 ],
 "metadata": {
  "kernelspec": {
   "display_name": "Scala 2.11",
   "language": "scala211",
   "name": "scala211"
  },
  "language_info": {
   "codemirror_mode": "text/x-scala",
   "file_extension": "scala",
   "mimetype": "text/x-scala",
   "name": "scala211",
   "pygments_lexer": "scala",
   "version": "2.11.6"
  }
 },
 "nbformat": 4,
 "nbformat_minor": 0
}
