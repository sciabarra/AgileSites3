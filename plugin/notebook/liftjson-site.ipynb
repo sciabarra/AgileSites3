{
 "cells": [
  {
   "cell_type": "code",
   "execution_count": null,
   "metadata": {
    "collapsed": false
   },
   "outputs": [],
   "source": [
    "load.jar(\"\"\"/Users/msciab/.ivy2/cache/net.liftweb/lift-json_2.11/jars/lift-json_2.11-2.6.jar\"\"\")"
   ]
  },
  {
   "cell_type": "code",
   "execution_count": null,
   "metadata": {
    "collapsed": false
   },
   "outputs": [],
   "source": [
    "import net.liftweb.json._\n",
    "import scala.io._\n"
   ]
  },
  {
   "cell_type": "code",
   "execution_count": null,
   "metadata": {
    "collapsed": false
   },
   "outputs": [],
   "source": [
    "val file = Source.fromFile(\"AdminSite.json\").mkString\n",
    "val json = parse( file )"
   ]
  },
  {
   "cell_type": "code",
   "execution_count": null,
   "metadata": {
    "collapsed": false
   },
   "outputs": [],
   "source": [
    "val t = json \\\\ \"enabledAssetTypes\" \\ \"type\"\n",
    "pretty(render(t))"
   ]
  },
  {
   "cell_type": "code",
   "execution_count": null,
   "metadata": {
    "collapsed": false
   },
   "outputs": [],
   "source": [
    "val site = \"http://10.0.2.15:7003/sites\"\n",
    "val stype = \"FW_View\"\n",
    "val newEntry = parse(\n",
    "      s\"\"\"{\n",
    "        | \"href\": \"${site}/REST/types/${stype}\",\n",
    "        | \"name\" : \"${stype}\"\n",
    "        | }\n",
    "      \"\"\".stripMargin)\n",
    "\n",
    "val stype1 = \"Template\"\n",
    "\n",
    "val newEntry1 = parse(\n",
    "      s\"\"\"{\n",
    "        | \"href\": \"${site}/REST/types/${stype1}\",\n",
    "        | \"name\" : \"${stype1}\"\n",
    "        | }\n",
    "      \"\"\".stripMargin)"
   ]
  },
  {
   "cell_type": "code",
   "execution_count": null,
   "metadata": {
    "collapsed": false
   },
   "outputs": [],
   "source": [
    "json find { _ == newEntry }\n",
    "json find { _ == newEntry1 }"
   ]
  },
  {
   "cell_type": "code",
   "execution_count": null,
   "metadata": {
    "collapsed": false
   },
   "outputs": [],
   "source": [
    "val json1 = json transform { \n",
    "    case JField(\"type\", JArray(list)) => \n",
    "       val list1 = parse(\"\"\"{ \n",
    "          \"href\":\"http://10.0.2.15:7003/sites/REST/types/Template\",\n",
    "          \"name\":\"Template\"\n",
    "       }\"\"\") :: parse(\"\"\"{ \n",
    "          \"href\":\"http://10.0.2.15:7003/sites/REST/types/CSElement\",\n",
    "          \"name\":\"CSElement\"\n",
    "       }\"\"\") :: list \n",
    "       JField(\"type\", JArray(list1))\n",
    "}"
   ]
  },
  {
   "cell_type": "code",
   "execution_count": null,
   "metadata": {
    "collapsed": false
   },
   "outputs": [],
   "source": [
    "pretty(render(json1 \\\\ \"enabledAssetTypes\" \\ \"type\"))"
   ]
  },
  {
   "cell_type": "code",
   "execution_count": null,
   "metadata": {
    "collapsed": false
   },
   "outputs": [],
   "source": [
    "parse(\"\"\"{ \"href\": \"a\", \"name\": \"b\"}\"\"\")"
   ]
  },
  {
   "cell_type": "code",
   "execution_count": null,
   "metadata": {
    "collapsed": false
   },
   "outputs": [],
   "source": [
    "parse(\"\"\"{\n",
    "    \"name\":\"resdetails1\",\n",
    "    \"data\":{\n",
    "      \"stringValue\":\"eid=1411062372351\"\n",
    "    }}\"\"\")"
   ]
  },
  {
   "cell_type": "code",
   "execution_count": 4,
   "metadata": {
    "collapsed": false
   },
   "outputs": [
    {
     "data": {
      "text/plain": [
       "\u001b[36mres3\u001b[0m: \u001b[32mammonite\u001b[0m.\u001b[32mpprint\u001b[0m.\u001b[32mShow\u001b[0m[\u001b[32mIterable\u001b[0m[\u001b[32mString\u001b[0m]] = \u001b[33mSet\u001b[0m(\n",
       "  \u001b[32m\"java.runtime.name\"\u001b[0m,\n",
       "  \u001b[32m\"sun.boot.library.path\"\u001b[0m,\n",
       "  \u001b[32m\"java.vm.version\"\u001b[0m,\n",
       "  \u001b[32m\"gopherProxySet\"\u001b[0m,\n",
       "  \u001b[32m\"java.vm.vendor\"\u001b[0m,\n",
       "  \u001b[32m\"java.vendor.url\"\u001b[0m,\n",
       "  \u001b[32m\"path.separator\"\u001b[0m,\n",
       "  \u001b[32m\"java.vm.name\"\u001b[0m,\n",
       "  \u001b[32m\"file.encoding.pkg\"\u001b[0m,\n",
       "  \u001b[32m\"user.country\"\u001b[0m,\n",
       "  \u001b[32m\"sun.java.launcher\"\u001b[0m,\n",
       "  \u001b[32m\"sun.os.patch.level\"\u001b[0m,\n",
       "  \u001b[32m\"java.vm.specification.name\"\u001b[0m,\n",
       "  \u001b[32m\"user.dir\"\u001b[0m,\n",
       "  \u001b[32m\"java.runtime.version\"\u001b[0m,\n",
       "  \u001b[32m\"java.awt.graphicsenv\"\u001b[0m,\n",
       "  \u001b[32m\"java.endorsed.dirs\"\u001b[0m,\n",
       "  \u001b[32m\"os.arch\"\u001b[0m,\n",
       "  \u001b[32m\"java.io.tmpdir\"\u001b[0m,\n",
       "  \u001b[32m\"line.separator\"\u001b[0m,\n",
       "  \u001b[32m\"java.vm.specification.vendor\"\u001b[0m,\n",
       "  \u001b[32m\"os.name\"\u001b[0m,\n",
       "  \u001b[32m\"apple.laf.useScreenMenuBar\"\u001b[0m,\n",
       "  \u001b[32m\"sun.jnu.encoding\"\u001b[0m,\n",
       "  \u001b[32m\"java.library.path\"\u001b[0m,\n",
       "  \u001b[32m\"java.specification.name\"\u001b[0m,\n",
       "  \u001b[32m\"java.class.version\"\u001b[0m,\n",
       "  \u001b[32m\"sun.management.compiler\"\u001b[0m,\n",
       "  \u001b[32m\"prog.version\"\u001b[0m,\n",
       "  \u001b[32m\"os.version\"\u001b[0m,\n",
       "  \u001b[32m\"http.nonProxyHosts\"\u001b[0m,\n",
       "  \u001b[32m\"user.home\"\u001b[0m,\n",
       "  \u001b[32m\"user.timezone\"\u001b[0m,\n",
       "  \u001b[32m\"java.awt.printerjob\"\u001b[0m,\n",
       "  \u001b[32m\"file.encoding\"\u001b[0m,\n",
       "  \u001b[32m\"java.specification.version\"\u001b[0m,\n",
       "  \u001b[32m\"java.class.path\"\u001b[0m,\n",
       "  \u001b[32m\"user.name\"\u001b[0m,\n",
       "  \u001b[32m\"prog.home\"\u001b[0m,\n",
       "  \u001b[32m\"java.vm.specification.version\"\u001b[0m,\n",
       "  \u001b[32m\"sun.java.command\"\u001b[0m,\n",
       "  \u001b[32m\"java.home\"\u001b[0m,\n",
       "  \u001b[32m\"sun.arch.data.model\"\u001b[0m,\n",
       "  \u001b[32m\"user.language\"\u001b[0m,\n",
       "  \u001b[32m\"java.specification.vendor\"\u001b[0m,\n",
       "  \u001b[32m\"awt.toolkit\"\u001b[0m,\n",
       "  \u001b[32m\"java.vm.info\"\u001b[0m,\n",
       "  \u001b[32m\"java.version\"\u001b[0m,\n",
       "  \u001b[32m\"java.ext.dirs\"\u001b[0m,\n",
       "  \u001b[32m\"sun.boot.class.path\"\u001b[0m,\n",
       "  \u001b[32m\"java.vendor\"\u001b[0m,\n",
       "  \u001b[32m\"file.separator\"\u001b[0m,\n",
       "  \u001b[32m\"java.vendor.url.bug\"\u001b[0m,\n",
       "  \u001b[32m\"sun.io.unicode.encoding\"\u001b[0m,\n",
       "  \u001b[32m\"sun.cpu.endian\"\u001b[0m,\n",
       "  \u001b[32m\"socksNonProxyHosts\"\u001b[0m,\n",
       "  \u001b[32m\"ftp.nonProxyHosts\"\u001b[0m,\n",
       "  \u001b[32m\"sun.cpu.isalist\"\u001b[0m\n",
       ")"
      ]
     },
     "metadata": {},
     "output_type": "display_data"
    }
   ],
   "source": [
    "show(sys.props.keys)"
   ]
  }
 ],
 "metadata": {
  "kernelspec": {
   "display_name": "Scala 2.11",
   "language": "scala211",
   "name": "scala211"
  },
  "language_info": {
   "codemirror_mode": "text/x-scala",
   "file_extension": "scala",
   "mimetype": "text/x-scala",
   "name": "scala211",
   "pygments_lexer": "scala",
   "version": "2.11.6"
  }
 },
 "nbformat": 4,
 "nbformat_minor": 0
}
